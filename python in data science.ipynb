{
 "cells": [
  {
   "cell_type": "markdown",
   "id": "68615b4f",
   "metadata": {},
   "source": [
    "# Python basics for data science "
   ]
  },
  {
   "cell_type": "code",
   "execution_count": 1,
   "id": "2afac725",
   "metadata": {},
   "outputs": [],
   "source": [
    "#Function performs a particular task.\n",
    "#identification ---> function()"
   ]
  },
  {
   "cell_type": "code",
   "execution_count": 2,
   "id": "dbb3c19e",
   "metadata": {},
   "outputs": [
    {
     "name": "stdout",
     "output_type": "stream",
     "text": [
      "Hello World\n"
     ]
    }
   ],
   "source": [
    "# Prints \"Hello World\" to the console\n",
    "print(\"Hello World\")"
   ]
  },
  {
   "cell_type": "markdown",
   "id": "38954245",
   "metadata": {},
   "source": [
    "Variables"
   ]
  },
  {
   "cell_type": "code",
   "execution_count": 3,
   "id": "7c4ae4c2",
   "metadata": {},
   "outputs": [],
   "source": [
    "# Variable --> - Variables are used to store the values .\n",
    "#              - variables are case sensitive .\n",
    "                  \n",
    "# Define variable rules --> - you can have special character only \"_\" underscored . \n",
    "#                           - you can have numbers but not at the begining , rest you can have at the end of the variable ."
   ]
  },
  {
   "cell_type": "code",
   "execution_count": 4,
   "id": "6a71360e",
   "metadata": {},
   "outputs": [],
   "source": [
    "A = 12 # Assigning integer value 12 to variable A"
   ]
  },
  {
   "cell_type": "code",
   "execution_count": 5,
   "id": "b96386d2",
   "metadata": {},
   "outputs": [
    {
     "data": {
      "text/plain": [
       "12"
      ]
     },
     "execution_count": 5,
     "metadata": {},
     "output_type": "execute_result"
    }
   ],
   "source": [
    "A # Displays the value of A"
   ]
  },
  {
   "cell_type": "code",
   "execution_count": 6,
   "id": "1ab1ef39",
   "metadata": {},
   "outputs": [],
   "source": [
    "apple = 34 # Assigning integer value 34 to variable apple"
   ]
  },
  {
   "cell_type": "code",
   "execution_count": 7,
   "id": "1a25457a",
   "metadata": {},
   "outputs": [
    {
     "name": "stdout",
     "output_type": "stream",
     "text": [
      "34\n"
     ]
    }
   ],
   "source": [
    "print(apple) # Prints the value of apple"
   ]
  },
  {
   "cell_type": "code",
   "execution_count": 8,
   "id": "0d34816f",
   "metadata": {},
   "outputs": [
    {
     "name": "stdout",
     "output_type": "stream",
     "text": [
      "<class 'int'>\n"
     ]
    }
   ],
   "source": [
    "print(type(3)) # Prints the type of 3, which is <class 'int'>"
   ]
  },
  {
   "cell_type": "code",
   "execution_count": 9,
   "id": "203417c7",
   "metadata": {},
   "outputs": [
    {
     "name": "stdout",
     "output_type": "stream",
     "text": [
      "<class 'float'>\n"
     ]
    }
   ],
   "source": [
    "print(type(3.5)) # Prints the type of 3.5, which is <class 'float'>"
   ]
  },
  {
   "cell_type": "code",
   "execution_count": 10,
   "id": "3b3178ce",
   "metadata": {},
   "outputs": [
    {
     "name": "stdout",
     "output_type": "stream",
     "text": [
      "<class 'str'>\n"
     ]
    }
   ],
   "source": [
    "print(type(\"Pratham\")) # Prints the type of \"Pratham\", which is <class 'str'>"
   ]
  },
  {
   "cell_type": "code",
   "execution_count": 11,
   "id": "aa037d5c",
   "metadata": {},
   "outputs": [
    {
     "name": "stdout",
     "output_type": "stream",
     "text": [
      "<class 'bool'>\n"
     ]
    }
   ],
   "source": [
    "print(type(True)) # Prints the type of True, which is <class 'bool'>"
   ]
  },
  {
   "cell_type": "code",
   "execution_count": 12,
   "id": "2805a668",
   "metadata": {},
   "outputs": [],
   "source": [
    "# tuple --> ()\n",
    "# list --> []\n",
    "# set --> {}\n",
    "# Dict --> {}"
   ]
  },
  {
   "cell_type": "markdown",
   "id": "1e837b7f",
   "metadata": {},
   "source": [
    "LIST"
   ]
  },
  {
   "cell_type": "code",
   "execution_count": 13,
   "id": "842e8b4b",
   "metadata": {},
   "outputs": [],
   "source": [
    " # Creating a list with mixed data types  \n",
    "mylist = [23,43,'hello',[7,34,56],True]"
   ]
  },
  {
   "cell_type": "code",
   "execution_count": 14,
   "id": "4122ec7e",
   "metadata": {},
   "outputs": [
    {
     "data": {
      "text/plain": [
       "[23, 43, 'hello', [7, 34, 56], True]"
      ]
     },
     "execution_count": 14,
     "metadata": {},
     "output_type": "execute_result"
    }
   ],
   "source": [
    "# Displays the list\n",
    "mylist"
   ]
  },
  {
   "cell_type": "code",
   "execution_count": 15,
   "id": "d58afa7f",
   "metadata": {},
   "outputs": [],
   "source": [
    "# Changing the first element of the list to 34\n",
    "mylist[0] = 34"
   ]
  },
  {
   "cell_type": "code",
   "execution_count": 16,
   "id": "386f45ac",
   "metadata": {},
   "outputs": [
    {
     "data": {
      "text/plain": [
       "[34, 43, 'hello', [7, 34, 56], True]"
      ]
     },
     "execution_count": 16,
     "metadata": {},
     "output_type": "execute_result"
    }
   ],
   "source": [
    "mylist"
   ]
  },
  {
   "cell_type": "code",
   "execution_count": 17,
   "id": "c76672e3",
   "metadata": {},
   "outputs": [
    {
     "name": "stdout",
     "output_type": "stream",
     "text": [
      "<class 'list'>\n"
     ]
    }
   ],
   "source": [
    "# Prints the type of mylist, which is <class 'list'>\n",
    "print(type(mylist))"
   ]
  },
  {
   "cell_type": "code",
   "execution_count": 18,
   "id": "21be7dd3",
   "metadata": {},
   "outputs": [
    {
     "data": {
      "text/plain": [
       "34"
      ]
     },
     "execution_count": 18,
     "metadata": {},
     "output_type": "execute_result"
    }
   ],
   "source": [
    "# Accesses the first element of the list\n",
    "mylist[0]"
   ]
  },
  {
   "cell_type": "code",
   "execution_count": 19,
   "id": "dca1ffee",
   "metadata": {},
   "outputs": [
    {
     "data": {
      "text/plain": [
       "43"
      ]
     },
     "execution_count": 19,
     "metadata": {},
     "output_type": "execute_result"
    }
   ],
   "source": [
    "# Accesses the second element of the list using negative indexing\n",
    "mylist[-4]"
   ]
  },
  {
   "cell_type": "code",
   "execution_count": 20,
   "id": "6fde888e",
   "metadata": {},
   "outputs": [
    {
     "data": {
      "text/plain": [
       "[7, 34, 56]"
      ]
     },
     "execution_count": 20,
     "metadata": {},
     "output_type": "execute_result"
    }
   ],
   "source": [
    "mylist[3]"
   ]
  },
  {
   "cell_type": "code",
   "execution_count": 21,
   "id": "e3bcc09a",
   "metadata": {},
   "outputs": [
    {
     "data": {
      "text/plain": [
       "True"
      ]
     },
     "execution_count": 21,
     "metadata": {},
     "output_type": "execute_result"
    }
   ],
   "source": [
    "mylist[4]"
   ]
  },
  {
   "cell_type": "code",
   "execution_count": 22,
   "id": "f033a5bc",
   "metadata": {},
   "outputs": [],
   "source": [
    "# single Dimension Indexing"
   ]
  },
  {
   "cell_type": "code",
   "execution_count": 23,
   "id": "de47e5d6",
   "metadata": {},
   "outputs": [
    {
     "data": {
      "text/plain": [
       "[7, 34, 56]"
      ]
     },
     "execution_count": 23,
     "metadata": {},
     "output_type": "execute_result"
    }
   ],
   "source": [
    "mylist[3] # Accesses the fourth element of the list"
   ]
  },
  {
   "cell_type": "code",
   "execution_count": 24,
   "id": "ffa9a9c3",
   "metadata": {},
   "outputs": [
    {
     "data": {
      "text/plain": [
       "34"
      ]
     },
     "execution_count": 24,
     "metadata": {},
     "output_type": "execute_result"
    }
   ],
   "source": [
    "mylist[3][1] # Accesses the second element of the sublist at index 3"
   ]
  },
  {
   "cell_type": "code",
   "execution_count": 25,
   "id": "1ba65ad5",
   "metadata": {},
   "outputs": [],
   "source": [
    "# mylist = [34,43,'hello',[7,34,56],True]\n",
    "#slicing\n",
    "# start : Stop+1"
   ]
  },
  {
   "cell_type": "code",
   "execution_count": 26,
   "id": "b0efc4cc",
   "metadata": {},
   "outputs": [
    {
     "data": {
      "text/plain": [
       "[34, 43, 'hello']"
      ]
     },
     "execution_count": 26,
     "metadata": {},
     "output_type": "execute_result"
    }
   ],
   "source": [
    "mylist[0:3] # Slices the list from index 0 to 2"
   ]
  },
  {
   "cell_type": "code",
   "execution_count": 27,
   "id": "4bc58d54",
   "metadata": {},
   "outputs": [
    {
     "name": "stdout",
     "output_type": "stream",
     "text": [
      "[34, 43, 'hello'] [7, 34]\n"
     ]
    }
   ],
   "source": [
    "print(mylist[0:3], mylist [-2][0:2]) # Prints the sliced list and the sliced part of a sublist\n"
   ]
  },
  {
   "cell_type": "code",
   "execution_count": 28,
   "id": "f940c2d7",
   "metadata": {},
   "outputs": [],
   "source": [
    "# List are mutable or changeable\n",
    "# list uses \"[]\" Square brackets"
   ]
  },
  {
   "cell_type": "markdown",
   "id": "6135fd8b",
   "metadata": {},
   "source": [
    "TUPLE"
   ]
  },
  {
   "cell_type": "code",
   "execution_count": 29,
   "id": "0322fb9a",
   "metadata": {},
   "outputs": [],
   "source": [
    "# Tuple are Imutable or unchangeable\n",
    "# Tuple uses \"()\" Rounded brackets"
   ]
  },
  {
   "cell_type": "code",
   "execution_count": 30,
   "id": "3734cba6",
   "metadata": {},
   "outputs": [],
   "source": [
    "mytuple = (23,43,'hello',[7,34,56],True)  # Creating a tuple with mixed data types"
   ]
  },
  {
   "cell_type": "code",
   "execution_count": 31,
   "id": "fbca67f5",
   "metadata": {},
   "outputs": [
    {
     "data": {
      "text/plain": [
       "(23, 43, 'hello', [7, 34, 56], True)"
      ]
     },
     "execution_count": 31,
     "metadata": {},
     "output_type": "execute_result"
    }
   ],
   "source": [
    "mytuple # Displays the tuple"
   ]
  },
  {
   "cell_type": "code",
   "execution_count": 32,
   "id": "055a59c2",
   "metadata": {},
   "outputs": [
    {
     "ename": "TypeError",
     "evalue": "'tuple' object does not support item assignment",
     "output_type": "error",
     "traceback": [
      "\u001b[1;31m---------------------------------------------------------------------------\u001b[0m",
      "\u001b[1;31mTypeError\u001b[0m                                 Traceback (most recent call last)",
      "Cell \u001b[1;32mIn[32], line 1\u001b[0m\n\u001b[1;32m----> 1\u001b[0m mytuple[\u001b[38;5;241m0\u001b[39m] \u001b[38;5;241m=\u001b[39m \u001b[38;5;241m34\u001b[39m\n",
      "\u001b[1;31mTypeError\u001b[0m: 'tuple' object does not support item assignment"
     ]
    }
   ],
   "source": [
    "mytuple[0] = 34 # cannot change the value of a tuple "
   ]
  },
  {
   "cell_type": "code",
   "execution_count": 33,
   "id": "6680e65a",
   "metadata": {},
   "outputs": [],
   "source": [
    "# Interview question - remove the duplicate values  \n",
    "\n",
    "d = [3,3,3,6,6,6,7,7,7,8,8,8]"
   ]
  },
  {
   "cell_type": "code",
   "execution_count": 34,
   "id": "54e000ba",
   "metadata": {},
   "outputs": [
    {
     "data": {
      "text/plain": [
       "{3, 6, 7, 8}"
      ]
     },
     "execution_count": 34,
     "metadata": {},
     "output_type": "execute_result"
    }
   ],
   "source": [
    "set(d) # Converts the list to a set to remove duplicates"
   ]
  },
  {
   "cell_type": "code",
   "execution_count": 35,
   "id": "8f0a33ee",
   "metadata": {},
   "outputs": [],
   "source": [
    "e = set(d) # Assigns the set to variable e"
   ]
  },
  {
   "cell_type": "code",
   "execution_count": 36,
   "id": "3f217a2c",
   "metadata": {},
   "outputs": [],
   "source": [
    "f = list(e) # Converts the set back to a list"
   ]
  },
  {
   "cell_type": "code",
   "execution_count": 37,
   "id": "894d2d2e",
   "metadata": {},
   "outputs": [
    {
     "data": {
      "text/plain": [
       "[8, 3, 6, 7]"
      ]
     },
     "execution_count": 37,
     "metadata": {},
     "output_type": "execute_result"
    }
   ],
   "source": [
    "f # Displays the list without duplicates"
   ]
  },
  {
   "cell_type": "code",
   "execution_count": 38,
   "id": "6a4be2d2",
   "metadata": {},
   "outputs": [],
   "source": [
    "# dictionary are in the form of key and value\n",
    "\n",
    "mydict = {\"Name\" : [\"Pratham\",\"Pednekar\"],\n",
    "          \"Age\" : 19 ,\n",
    "          \"Place\" : \"Mumbai\"} # Creating a dictionary"
   ]
  },
  {
   "cell_type": "code",
   "execution_count": 39,
   "id": "abdb9b97",
   "metadata": {},
   "outputs": [
    {
     "data": {
      "text/plain": [
       "'Pednekar'"
      ]
     },
     "execution_count": 39,
     "metadata": {},
     "output_type": "execute_result"
    }
   ],
   "source": [
    "mydict[\"Name\"][1] # Accesses the second element in the list associated with the key \"Name\""
   ]
  },
  {
   "cell_type": "code",
   "execution_count": 40,
   "id": "2323a226",
   "metadata": {},
   "outputs": [],
   "source": [
    "list1 =[ mydict[\"Name\"],mydict[\"Age\"],mydict[\"Place\"]] # Creates a list from dictionary values"
   ]
  },
  {
   "cell_type": "code",
   "execution_count": 41,
   "id": "ec859708",
   "metadata": {},
   "outputs": [
    {
     "data": {
      "text/plain": [
       "[['Pratham', 'Pednekar'], 19, 'Mumbai']"
      ]
     },
     "execution_count": 41,
     "metadata": {},
     "output_type": "execute_result"
    }
   ],
   "source": [
    "list1"
   ]
  },
  {
   "cell_type": "code",
   "execution_count": 42,
   "id": "beb74611",
   "metadata": {},
   "outputs": [],
   "source": [
    "ddd = [23,43,\"hello\",[7,56,[65,53,54]],True]  # Creating a nested list"
   ]
  },
  {
   "cell_type": "code",
   "execution_count": 43,
   "id": "2e59b9bc",
   "metadata": {},
   "outputs": [
    {
     "data": {
      "text/plain": [
       "53"
      ]
     },
     "execution_count": 43,
     "metadata": {},
     "output_type": "execute_result"
    }
   ],
   "source": [
    "ddd[3][2][1] # Accesses the second element in the nested sublist"
   ]
  },
  {
   "cell_type": "code",
   "execution_count": 44,
   "id": "dc9586f2",
   "metadata": {},
   "outputs": [
    {
     "data": {
      "text/plain": [
       "(23, True)"
      ]
     },
     "execution_count": 44,
     "metadata": {},
     "output_type": "execute_result"
    }
   ],
   "source": [
    "# If i want any two or three middle value of a list \n",
    "ddd[0],ddd[4] # Accesses the first and the last elements of the list"
   ]
  },
  {
   "cell_type": "code",
   "execution_count": 45,
   "id": "814463fd",
   "metadata": {},
   "outputs": [
    {
     "data": {
      "text/plain": [
       "5"
      ]
     },
     "execution_count": 45,
     "metadata": {},
     "output_type": "execute_result"
    }
   ],
   "source": [
    "len(ddd) # Prints the length of the list"
   ]
  },
  {
   "cell_type": "code",
   "execution_count": 46,
   "id": "4f3e77be",
   "metadata": {},
   "outputs": [],
   "source": [
    "a = [12,34,45,\"hello\",67,48,\"World\",87,54,True] # Creating another list with mixed data types"
   ]
  },
  {
   "cell_type": "code",
   "execution_count": 47,
   "id": "837f759a",
   "metadata": {},
   "outputs": [],
   "source": [
    "# In append will bydefault add the value at the end of the list\n",
    "a.append(66)"
   ]
  },
  {
   "cell_type": "code",
   "execution_count": 48,
   "id": "7127d8f9",
   "metadata": {},
   "outputs": [
    {
     "data": {
      "text/plain": [
       "[12, 34, 45, 'hello', 67, 48, 'World', 87, 54, True, 66]"
      ]
     },
     "execution_count": 48,
     "metadata": {},
     "output_type": "execute_result"
    }
   ],
   "source": [
    "a"
   ]
  },
  {
   "cell_type": "code",
   "execution_count": 49,
   "id": "870e6fc4",
   "metadata": {},
   "outputs": [],
   "source": [
    "# In insert, it will give u a option that on which index u want to place the value\n",
    "a.insert(0,\"Pratham\")"
   ]
  },
  {
   "cell_type": "code",
   "execution_count": 50,
   "id": "93648f27",
   "metadata": {},
   "outputs": [
    {
     "data": {
      "text/plain": [
       "['Pratham', 12, 34, 45, 'hello', 67, 48, 'World', 87, 54, True, 66]"
      ]
     },
     "execution_count": 50,
     "metadata": {},
     "output_type": "execute_result"
    }
   ],
   "source": [
    "a"
   ]
  },
  {
   "cell_type": "code",
   "execution_count": 51,
   "id": "2cec1b25",
   "metadata": {},
   "outputs": [],
   "source": [
    "# statemennts in python "
   ]
  },
  {
   "cell_type": "code",
   "execution_count": 52,
   "id": "4571cd82",
   "metadata": {},
   "outputs": [],
   "source": [
    "# if,elif,else"
   ]
  },
  {
   "cell_type": "code",
   "execution_count": 53,
   "id": "7f408094",
   "metadata": {},
   "outputs": [],
   "source": [
    "var = 12 # Assigns integer value 12 to variable var"
   ]
  },
  {
   "cell_type": "code",
   "execution_count": 54,
   "id": "00c311d4",
   "metadata": {},
   "outputs": [
    {
     "name": "stdout",
     "output_type": "stream",
     "text": [
      "equal\n"
     ]
    }
   ],
   "source": [
    "if var > 13 :\n",
    "    print(\"Hello\") # Executes if var is greater than 13\n",
    "elif var == 12:\n",
    "    print(\"equal\") # Executes if var is equal to 12\n",
    "else:\n",
    "    print(\"ok\") # Executes if neither of the above conditions are met "
   ]
  },
  {
   "cell_type": "code",
   "execution_count": 55,
   "id": "3db4b185",
   "metadata": {},
   "outputs": [],
   "source": [
    "# Function to check if a number is even or odd\n",
    "def Evenodd(n):\n",
    "    if n%2 == 0:\n",
    "        print(\"even\")\n",
    "    else: \n",
    "        print(\"odd\")"
   ]
  },
  {
   "cell_type": "code",
   "execution_count": 57,
   "id": "df387948",
   "metadata": {},
   "outputs": [],
   "source": [
    "a = int(input(\"Enter the number: \")) # Takes an integer input from the user\n",
    "b = int(input(\"Enter the number: \")) # Takes another integer input from the user"
   ]
  },
  {
   "cell_type": "code",
   "execution_count": 58,
   "id": "adc08cec",
   "metadata": {},
   "outputs": [],
   "source": [
    "c = a+b # Adds the two inputs"
   ]
  },
  {
   "cell_type": "code",
   "execution_count": 59,
   "id": "bc03fae1",
   "metadata": {},
   "outputs": [
    {
     "data": {
      "text/plain": [
       "25"
      ]
     },
     "execution_count": 59,
     "metadata": {},
     "output_type": "execute_result"
    }
   ],
   "source": [
    "c # Displays the sum"
   ]
  },
  {
   "cell_type": "code",
   "execution_count": 60,
   "id": "e101daba",
   "metadata": {},
   "outputs": [],
   "source": [
    "# student will come and input their marks out of 100 you need to put this student in his/her grade\n",
    "# 75-100 ---> Grade A\n",
    "# 50-75 ---> Grade B\n",
    "# 35-50 ---> Grade c\n",
    "# less than 35 ---> Fail\n",
    "# No negative marks or marks greater than 100 should be accepted "
   ]
  },
  {
   "cell_type": "code",
   "execution_count": 61,
   "id": "49a04b09",
   "metadata": {},
   "outputs": [],
   "source": [
    "# Function to assign grade based on marks\n",
    "def studentmarks(marks):\n",
    "    if marks >= 75 and marks <= 100:\n",
    "        print(\"Grade A\")\n",
    "    elif marks >= 50 and marks < 75:\n",
    "        print(\"Grade B\")\n",
    "    elif marks >=35 and marks < 50:\n",
    "        print(\"Grade c\")\n",
    "    elif marks >= 0 and marks < 35: \n",
    "        print(\"fail\")\n",
    "    else :\n",
    "        print(\"Enter invalid value\")"
   ]
  },
  {
   "cell_type": "code",
   "execution_count": 62,
   "id": "5fc9aa69",
   "metadata": {},
   "outputs": [
    {
     "name": "stdout",
     "output_type": "stream",
     "text": [
      "Grade A\n"
     ]
    }
   ],
   "source": [
    "studentmarks(85) # Calls the function with a sample mark"
   ]
  },
  {
   "cell_type": "code",
   "execution_count": 63,
   "id": "8ef197e3",
   "metadata": {},
   "outputs": [],
   "source": [
    "#Loops\n",
    "# for \n",
    "# while"
   ]
  },
  {
   "cell_type": "code",
   "execution_count": 64,
   "id": "c8f62c40",
   "metadata": {},
   "outputs": [
    {
     "name": "stdout",
     "output_type": "stream",
     "text": [
      "Hello\n",
      "Hello\n",
      "Hello\n",
      "Hello\n",
      "Hello\n",
      "Hello\n",
      "Hello\n",
      "Hello\n",
      "Hello\n",
      "Hello\n"
     ]
    }
   ],
   "source": [
    "for i in range(0,10):\n",
    "    print(\"Hello\")  # Prints \"Hello\" 10 times"
   ]
  },
  {
   "cell_type": "code",
   "execution_count": 65,
   "id": "027044b2",
   "metadata": {},
   "outputs": [],
   "source": [
    "a = [1,2,3,4,5,6,7,8,9,10] # Creates a list of numbers from 1 to 10"
   ]
  },
  {
   "cell_type": "code",
   "execution_count": 66,
   "id": "a38d2549",
   "metadata": {},
   "outputs": [
    {
     "data": {
      "text/plain": [
       "[1, 2, 3, 4, 5, 6, 7, 8, 9, 10]"
      ]
     },
     "execution_count": 66,
     "metadata": {},
     "output_type": "execute_result"
    }
   ],
   "source": [
    "a # Displays the list"
   ]
  },
  {
   "cell_type": "code",
   "execution_count": 67,
   "id": "0015edf2",
   "metadata": {},
   "outputs": [
    {
     "name": "stdout",
     "output_type": "stream",
     "text": [
      "1\n",
      "3\n",
      "5\n",
      "7\n",
      "9\n"
     ]
    }
   ],
   "source": [
    "#To get all odd number in the list\n",
    "for i in a:\n",
    "    if i%2 != 0 :# this 0 is the remainder \n",
    "        print (i)"
   ]
  },
  {
   "cell_type": "code",
   "execution_count": 68,
   "id": "ad8c618b",
   "metadata": {},
   "outputs": [
    {
     "name": "stdout",
     "output_type": "stream",
     "text": [
      "2\n",
      "4\n",
      "6\n",
      "8\n",
      "10\n"
     ]
    }
   ],
   "source": [
    "#To get all even numers in the list \n",
    "for i in a:\n",
    "    if i%2 == 0 :# this 0 is the remainder \n",
    "        print (i)"
   ]
  },
  {
   "cell_type": "code",
   "execution_count": 69,
   "id": "b7e7b4ce",
   "metadata": {},
   "outputs": [],
   "source": [
    "#Question \n",
    "\n",
    "# 2 * 1 = 2\n",
    "# 2 * 2 = 4\n",
    "# .\n",
    "# .\n",
    "# 2 * 10 = 20"
   ]
  },
  {
   "cell_type": "code",
   "execution_count": 70,
   "id": "08f77a32",
   "metadata": {},
   "outputs": [],
   "source": [
    "# Function to print multiplication table of a number\n",
    "def tableof(n):\n",
    "    for i in range(1,11):\n",
    "        print(n,\"*\",i,\"=\",n*i) # Prints the multiplication table of n"
   ]
  },
  {
   "cell_type": "code",
   "execution_count": 71,
   "id": "ba5351fc",
   "metadata": {},
   "outputs": [
    {
     "name": "stdout",
     "output_type": "stream",
     "text": [
      "2 * 1 = 2\n",
      "2 * 2 = 4\n",
      "2 * 3 = 6\n",
      "2 * 4 = 8\n",
      "2 * 5 = 10\n",
      "2 * 6 = 12\n",
      "2 * 7 = 14\n",
      "2 * 8 = 16\n",
      "2 * 9 = 18\n",
      "2 * 10 = 20\n"
     ]
    }
   ],
   "source": [
    "tableof(2) # Calls the function with 2"
   ]
  },
  {
   "cell_type": "code",
   "execution_count": 72,
   "id": "50436509",
   "metadata": {},
   "outputs": [],
   "source": [
    "# Function to return multiplication table of a number as a list\n",
    "def tableoff(n):\n",
    "    out = []\n",
    "    for i in range(1,11):\n",
    "        a = n ,\"*\", i,\"=\",n*i\n",
    "        out.append(a)\n",
    "    return out # Returns the list containing the multiplication table"
   ]
  },
  {
   "cell_type": "code",
   "execution_count": 73,
   "id": "e378a978",
   "metadata": {},
   "outputs": [
    {
     "data": {
      "text/plain": [
       "[(2, '*', 1, '=', 2),\n",
       " (2, '*', 2, '=', 4),\n",
       " (2, '*', 3, '=', 6),\n",
       " (2, '*', 4, '=', 8),\n",
       " (2, '*', 5, '=', 10),\n",
       " (2, '*', 6, '=', 12),\n",
       " (2, '*', 7, '=', 14),\n",
       " (2, '*', 8, '=', 16),\n",
       " (2, '*', 9, '=', 18),\n",
       " (2, '*', 10, '=', 20)]"
      ]
     },
     "execution_count": 73,
     "metadata": {},
     "output_type": "execute_result"
    }
   ],
   "source": [
    "tableoff(2)  # Calls the function with 2"
   ]
  },
  {
   "cell_type": "code",
   "execution_count": 74,
   "id": "1b17b6bb",
   "metadata": {},
   "outputs": [],
   "source": [
    "# Function to print the cube of a number\n",
    "def cube(number):\n",
    "    print(number * number * number)  Prints the cube of the number"
   ]
  },
  {
   "cell_type": "code",
   "execution_count": 75,
   "id": "e5b39ce7",
   "metadata": {},
   "outputs": [
    {
     "name": "stdout",
     "output_type": "stream",
     "text": [
      "27\n"
     ]
    }
   ],
   "source": [
    "cube(3) # Calls the function with 3"
   ]
  },
  {
   "cell_type": "code",
   "execution_count": 76,
   "id": "4edc8aae",
   "metadata": {},
   "outputs": [],
   "source": [
    "#python for data science"
   ]
  },
  {
   "cell_type": "code",
   "execution_count": 77,
   "id": "ddc4562f",
   "metadata": {},
   "outputs": [],
   "source": [
    "# 1,37,000 libraries are their in python\n",
    "# and below are the mostly used libraries and popular once  \n",
    "\n",
    "# Data preprocessing\n",
    "\n",
    "# Pandas - u can do any manipulation in excel file by using pandas and read and also edit the excel file\n",
    "# numpy - stand for numeric python (used for performing mathimatical calaculations)\n",
    "# Matplotlib - used for data visualization (for graphs and all)\n",
    "# seaborn - used for data visualization (An advanced library for data visualization more than matplotlib)\n",
    "\n",
    "# Machine Learning\n",
    "\n",
    "# sklearn - \n",
    "# statmodel - used for time series analysis \n",
    "\n",
    "# deep learning\n",
    "\n",
    "# opencv - used for computer vision \n",
    "# tensorflow\n",
    "# NLTK"
   ]
  },
  {
   "cell_type": "markdown",
   "id": "7d230db1",
   "metadata": {},
   "source": [
    "# Data Preprocessing"
   ]
  },
  {
   "cell_type": "code",
   "execution_count": 78,
   "id": "39ce0f61",
   "metadata": {},
   "outputs": [],
   "source": [
    "import pandas as pd # Imports pandas library"
   ]
  },
  {
   "cell_type": "code",
   "execution_count": 79,
   "id": "466c33e0",
   "metadata": {},
   "outputs": [],
   "source": [
    "# reading a file using pandas in python "
   ]
  },
  {
   "cell_type": "code",
   "execution_count": 80,
   "id": "b70ca33b",
   "metadata": {},
   "outputs": [],
   "source": [
    "#index_col default value is always none\n",
    "#header default value is always one\n",
    "data = pd.read_csv(\"Salaries.csv\",index_col= None,header = 0,encoding = \"utf-8\") \n",
    "#what is (encoding = \"utf-8\") ?\n",
    "# it uses to remove error in excel files like special characters errors"
   ]
  },
  {
   "cell_type": "code",
   "execution_count": 81,
   "id": "f0ce0fbf",
   "metadata": {},
   "outputs": [
    {
     "data": {
      "text/html": [
       "<div>\n",
       "<style scoped>\n",
       "    .dataframe tbody tr th:only-of-type {\n",
       "        vertical-align: middle;\n",
       "    }\n",
       "\n",
       "    .dataframe tbody tr th {\n",
       "        vertical-align: top;\n",
       "    }\n",
       "\n",
       "    .dataframe thead th {\n",
       "        text-align: right;\n",
       "    }\n",
       "</style>\n",
       "<table border=\"1\" class=\"dataframe\">\n",
       "  <thead>\n",
       "    <tr style=\"text-align: right;\">\n",
       "      <th></th>\n",
       "      <th>rank</th>\n",
       "      <th>discipline</th>\n",
       "      <th>phd</th>\n",
       "      <th>service</th>\n",
       "      <th>sex</th>\n",
       "      <th>salary</th>\n",
       "    </tr>\n",
       "  </thead>\n",
       "  <tbody>\n",
       "    <tr>\n",
       "      <th>0</th>\n",
       "      <td>Prof</td>\n",
       "      <td>B</td>\n",
       "      <td>56</td>\n",
       "      <td>49</td>\n",
       "      <td>Male</td>\n",
       "      <td>186960</td>\n",
       "    </tr>\n",
       "    <tr>\n",
       "      <th>1</th>\n",
       "      <td>Prof</td>\n",
       "      <td>A</td>\n",
       "      <td>12</td>\n",
       "      <td>6</td>\n",
       "      <td>Male</td>\n",
       "      <td>93000</td>\n",
       "    </tr>\n",
       "    <tr>\n",
       "      <th>2</th>\n",
       "      <td>Prof</td>\n",
       "      <td>A</td>\n",
       "      <td>23</td>\n",
       "      <td>20</td>\n",
       "      <td>Male</td>\n",
       "      <td>110515</td>\n",
       "    </tr>\n",
       "    <tr>\n",
       "      <th>3</th>\n",
       "      <td>Prof</td>\n",
       "      <td>A</td>\n",
       "      <td>40</td>\n",
       "      <td>31</td>\n",
       "      <td>Male</td>\n",
       "      <td>131205</td>\n",
       "    </tr>\n",
       "    <tr>\n",
       "      <th>4</th>\n",
       "      <td>Prof</td>\n",
       "      <td>B</td>\n",
       "      <td>20</td>\n",
       "      <td>18</td>\n",
       "      <td>Male</td>\n",
       "      <td>104800</td>\n",
       "    </tr>\n",
       "  </tbody>\n",
       "</table>\n",
       "</div>"
      ],
      "text/plain": [
       "   rank discipline  phd  service   sex  salary\n",
       "0  Prof          B   56       49  Male  186960\n",
       "1  Prof          A   12        6  Male   93000\n",
       "2  Prof          A   23       20  Male  110515\n",
       "3  Prof          A   40       31  Male  131205\n",
       "4  Prof          B   20       18  Male  104800"
      ]
     },
     "execution_count": 81,
     "metadata": {},
     "output_type": "execute_result"
    }
   ],
   "source": [
    "data.head() # Displays the first few rows of the data"
   ]
  },
  {
   "cell_type": "code",
   "execution_count": null,
   "id": "99c432fc",
   "metadata": {},
   "outputs": [],
   "source": []
  }
 ],
 "metadata": {
  "kernelspec": {
   "display_name": "Python 3 (ipykernel)",
   "language": "python",
   "name": "python3"
  },
  "language_info": {
   "codemirror_mode": {
    "name": "ipython",
    "version": 3
   },
   "file_extension": ".py",
   "mimetype": "text/x-python",
   "name": "python",
   "nbconvert_exporter": "python",
   "pygments_lexer": "ipython3",
   "version": "3.11.5"
  }
 },
 "nbformat": 4,
 "nbformat_minor": 5
}
